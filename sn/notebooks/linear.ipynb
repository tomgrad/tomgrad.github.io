{
 "cells": [
  {
   "cell_type": "markdown",
   "metadata": {},
   "source": [
    "[generator zbiorów uczących](https://editor.p5js.org/tomgrad/present/HMQm5flEA)"
   ]
  },
  {
   "cell_type": "code",
   "execution_count": 1,
   "metadata": {},
   "outputs": [
    {
     "name": "stdout",
     "output_type": "stream",
     "text": [
      "Populating the interactive namespace from numpy and matplotlib\n"
     ]
    }
   ],
   "source": [
    "%pylab inline\n",
    "# import numpy as np"
   ]
  },
  {
   "cell_type": "code",
   "execution_count": 2,
   "metadata": {},
   "outputs": [],
   "source": [
    "class Linear:\n",
    "    '''Warstwa liniowa - f(x)=Wx+b'''\n",
    "    def __init__(self, inputs, outputs):\n",
    "        '''\n",
    "        inputs - liczba cech\n",
    "        outputs - liczba klas\n",
    "        '''\n",
    "        self.b=np.zeros(outputs)\n",
    "        self.w=2*np.random.rand(outputs, inputs)-1\n",
    "    def forward(self, x):\n",
    "        self.x=x\n",
    "        return self.w@x+self.b\n",
    "    def backward(self, grad):\n",
    "        self.grad_w=np.outer(grad, self.x)\n",
    "        self.grad_b=grad\n",
    "        return grad@self.w\n",
    "    def learn(self, learning_rate):\n",
    "        self.w -= self.grad_w * learning_rate\n",
    "        self.b -= self.grad_b * learning_rate        "
   ]
  },
  {
   "cell_type": "code",
   "execution_count": 3,
   "metadata": {},
   "outputs": [],
   "source": [
    "class Softmax:\n",
    "    '''Funkcja aktywacji zwracająca prawdopodobieństwa - znormalizowane wartości e^x'''\n",
    "    def forward(self, x):\n",
    "        x=np.exp(x)\n",
    "        self.y=x/np.sum(x)\n",
    "        return self.y\n",
    "    def backward(self, grad):\n",
    "        return grad*self.y*(1-self.y)"
   ]
  },
  {
   "cell_type": "code",
   "execution_count": 22,
   "metadata": {},
   "outputs": [],
   "source": [
    "class CrossEntropyLoss:\n",
    "    '''Funkcja straty - entropia krzyżowa'''\n",
    "    def __call__(self, prob, correct):\n",
    "        '''\n",
    "        prob - wektor prawdopodobieństw\n",
    "        correct - indeks właściwej klasy\n",
    "        '''\n",
    "        grad=np.zeros(prob.shape)\n",
    "        grad[correct] = -1/prob[correct]\n",
    "        return -np.log(prob[correct]), grad"
   ]
  },
  {
   "cell_type": "code",
   "execution_count": 14,
   "metadata": {},
   "outputs": [],
   "source": [
    "class LinearClassifier:\n",
    "    '''Klasyfikator liniowy'''\n",
    "    def __init__(self, inputs, outputs):\n",
    "        '''\n",
    "        inputs - liczba cech\n",
    "        outputs - liczba klas\n",
    "        '''        \n",
    "        self.l=Linear(inputs, outputs)\n",
    "        self.s=Softmax()\n",
    "        self.loss=CrossEntropyLoss()\n",
    "    def forward(self, x):\n",
    "        x=self.l.forward(x)\n",
    "        x=self.s.forward(x)\n",
    "        return x\n",
    "    def train(self, X, Y, learning_rate):\n",
    "        '''\n",
    "        SGD epoch\n",
    "        X, Y - zestaw uczący (cechy, klasy)\n",
    "        learning_rate - szybkość uczenia\n",
    "        '''\n",
    "        order_list=[i for i in range(len(Y))]\n",
    "        np.random.shuffle(order_list)\n",
    "        total_loss=0\n",
    "        for i in order_list:\n",
    "            x=self.forward(X[i])\n",
    "            loss, grad = self.loss(x, Y[i])\n",
    "            total_loss+=loss\n",
    "            grad=self.s.backward(grad)\n",
    "            self.l.backward(grad)\n",
    "            self.l.learn(learning_rate)\n",
    "        return total_loss"
   ]
  },
  {
   "cell_type": "code",
   "execution_count": 155,
   "metadata": {},
   "outputs": [],
   "source": [
    "data=loadtxt('nonlin01.txt')\n",
    "X, Y = data[:,1:], data[:,0].astype('int')"
   ]
  },
  {
   "cell_type": "code",
   "execution_count": 156,
   "metadata": {},
   "outputs": [],
   "source": [
    "model=LinearClassifier(2, max(Y)+1)"
   ]
  },
  {
   "cell_type": "code",
   "execution_count": 139,
   "metadata": {},
   "outputs": [],
   "source": [
    "epochs=[]"
   ]
  },
  {
   "cell_type": "code",
   "execution_count": 148,
   "metadata": {},
   "outputs": [],
   "source": [
    "for i in range(1000):\n",
    "    epochs.append(model.train(X,Y, 1))"
   ]
  },
  {
   "cell_type": "code",
   "execution_count": 149,
   "metadata": {},
   "outputs": [
    {
     "data": {
      "text/plain": [
       "[<matplotlib.lines.Line2D at 0x7f88cef53d90>]"
      ]
     },
     "execution_count": 149,
     "metadata": {},
     "output_type": "execute_result"
    },
    {
     "data": {
      "image/png": "[encoded data removed]",
      "text/plain": [
       "<Figure size 360x360 with 1 Axes>"
      ]
     },
     "metadata": {
      "needs_background": "light"
     },
     "output_type": "display_data"
    }
   ],
   "source": [
    "plot(epochs)"
   ]
  },
  {
   "cell_type": "code",
   "execution_count": 150,
   "metadata": {},
   "outputs": [
    {
     "data": {
      "text/plain": [
       "0.19010506527604124"
      ]
     },
     "execution_count": 150,
     "metadata": {},
     "output_type": "execute_result"
    }
   ],
   "source": [
    "model.train(X,Y, 0.1)"
   ]
  },
  {
   "cell_type": "code",
   "execution_count": 157,
   "metadata": {},
   "outputs": [
    {
     "data": {
      "text/plain": [
       "<matplotlib.collections.PathCollection at 0x7f88cee1af40>"
      ]
     },
     "execution_count": 157,
     "metadata": {},
     "output_type": "execute_result"
    },
    {
     "data": {
      "image/png": "[encoded data removed]",
      "text/plain": [
       "<Figure size 360x360 with 1 Axes>"
      ]
     },
     "metadata": {
      "needs_background": "light"
     },
     "output_type": "display_data"
    }
   ],
   "source": [
    "n=50 # rozdzielczość\n",
    "z=zeros((n,n))\n",
    "x=linspace(0,1,n)\n",
    "for i in range(n):\n",
    "    for j in range(n):\n",
    "        z[i,j]=np.argmax(model.forward([x[j], x[i]]))\n",
    "figsize(5,5)\n",
    "contourf(x,x,z, vmin=0, vmax=max(Y));\n",
    "scatter(X[:,0], X[:,1], c=Y, edgecolors=(0,0,0))"
   ]
  },
  {
   "cell_type": "code",
   "execution_count": 136,
   "metadata": {},
   "outputs": [
    {
     "data": {
      "text/plain": [
       "[array([9.99952968e-01, 4.59439205e-05, 1.08729154e-06, 4.01204192e-10]),\n",
       " array([9.93688324e-01, 6.31022841e-03, 1.42114682e-06, 2.68448144e-08]),\n",
       " array([9.82427413e-01, 1.12816835e-02, 6.26516197e-03, 2.57413806e-05]),\n",
       " array([8.23013477e-06, 9.99898957e-01, 4.26552824e-08, 9.27699840e-05]),\n",
       " array([1.31401724e-08, 9.99580652e-01, 2.42979413e-09, 4.19332146e-04]),\n",
       " array([3.35612189e-07, 9.78649612e-01, 4.97439959e-06, 2.13450782e-02]),\n",
       " array([2.29514949e-04, 2.86930537e-07, 9.99742744e-01, 2.74544121e-05]),\n",
       " array([1.11435108e-07, 7.13499613e-10, 9.99983166e-01, 1.67221260e-05]),\n",
       " array([5.57384671e-10, 1.71259421e-07, 9.70885689e-01, 2.91141396e-02]),\n",
       " array([3.21175166e-10, 7.50411225e-04, 8.62585024e-03, 9.90623738e-01]),\n",
       " array([1.71127814e-12, 8.48855149e-05, 1.73063099e-03, 9.98184483e-01]),\n",
       " array([1.72895626e-13, 2.17978300e-06, 1.50405208e-02, 9.84957299e-01])]"
      ]
     },
     "execution_count": 136,
     "metadata": {},
     "output_type": "execute_result"
    }
   ],
   "source": [
    "[model.forward(x) for x in X]"
   ]
  },
  {
   "cell_type": "code",
   "execution_count": 154,
   "metadata": {},
   "outputs": [
    {
     "data": {
      "text/plain": [
       "(5, 2)"
      ]
     },
     "execution_count": 154,
     "metadata": {},
     "output_type": "execute_result"
    }
   ],
   "source": [
    "model.l.w.shape"
   ]
  },
  {
   "cell_type": "code",
   "execution_count": null,
   "metadata": {},
   "outputs": [],
   "source": []
  }
 ],
 "metadata": {
  "kernelspec": {
   "display_name": "Python 3",
   "language": "python",
   "name": "python3"
  },
  "language_info": {
   "codemirror_mode": {
    "name": "ipython",
    "version": 3
   },
   "file_extension": ".py",
   "mimetype": "text/x-python",
   "name": "python",
   "nbconvert_exporter": "python",
   "pygments_lexer": "ipython3",
   "version": "3.9.2"
  }
 },
 "nbformat": 4,
 "nbformat_minor": 4
}
